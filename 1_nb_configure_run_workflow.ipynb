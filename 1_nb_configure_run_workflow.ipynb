{
 "cells": [
  {
   "cell_type": "markdown",
   "metadata": {},
   "source": [
    "# Define variables"
   ]
  },
  {
   "cell_type": "markdown",
   "metadata": {},
   "source": [
    "We can move the variables that won't change to the `workflow_executor`"
   ]
  },
  {
   "cell_type": "code",
   "execution_count": null,
   "metadata": {},
   "outputs": [],
   "source": [
    "from src import workflow_executor"
   ]
  },
  {
   "cell_type": "code",
   "execution_count": null,
   "metadata": {},
   "outputs": [],
   "source": [
    "# Cloud functions must be deployed to retrieve it name\n",
    "# The name of the cloud function must be \"af-update-experiment-status\"\n",
    "function_metadata = ! gcloud functions describe af-update-experiment-status --gen2 --region us-central1 --format=\"value(serviceConfig.uri)\"\n",
    "function_uri = function_metadata[0]"
   ]
  },
  {
   "cell_type": "markdown",
   "metadata": {},
   "source": [
    "### Project, GCS and job ID"
   ]
  },
  {
   "cell_type": "code",
   "execution_count": null,
   "metadata": {},
   "outputs": [],
   "source": [
    "project_id = 'rl-alphafold-dev'     # Your project ID\n",
    "bucket_name = 'rl-alphafold-dbs'    # Bucket name\n",
    "region = 'us-central1'              # Region\n",
    "\n",
    "local_sequence_path = 'sequences/seq1.fasta'    # Path to your local sequence\n",
    "image_uri = f'gcr.io/{project_id}/alphafold'    # Path to image on GCR"
   ]
  },
  {
   "cell_type": "code",
   "execution_count": null,
   "metadata": {},
   "outputs": [],
   "source": [
    "# Change to the desired machine type\n",
    "data_pipeline_machine_type = 'c2-standard-16'\n",
    "predict_relax_machine_type = 'n1-standard-8-t4'"
   ]
  },
  {
   "cell_type": "markdown",
   "metadata": {},
   "source": [
    "### Network"
   ]
  },
  {
   "cell_type": "code",
   "execution_count": null,
   "metadata": {},
   "outputs": [],
   "source": [
    "network_name = 'alphafold'          # Change to your network name\n",
    "subnetwork_name = 'alphafold-nw'    # Change to your subnetwork name\n",
    "\n",
    "nfs_ip_address = '10.130.0.2'       # Filestore IP\n",
    "nfs_path = '/datasets'              # Path to NFS share"
   ]
  },
  {
   "cell_type": "markdown",
   "metadata": {},
   "source": [
    "### Data Pipeline"
   ]
  },
  {
   "cell_type": "code",
   "execution_count": null,
   "metadata": {},
   "outputs": [],
   "source": [
    "max_template_date = '2020-05-14'\n",
    "model_preset = 'monomer'        \n",
    "db_preset = 'reduced_dbs'       "
   ]
  },
  {
   "cell_type": "markdown",
   "metadata": {},
   "source": [
    "### Predict and Relax"
   ]
  },
  {
   "cell_type": "code",
   "execution_count": null,
   "metadata": {},
   "outputs": [],
   "source": [
    "# Change to the location (parent path) where the parameters are stored (GCS)\n",
    "model_params_path = 'rl-alphafold-dbs'"
   ]
  },
  {
   "cell_type": "code",
   "execution_count": null,
   "metadata": {},
   "outputs": [],
   "source": [
    "# Change only if necessary\n",
    "num_predictions_per_model = 1\n",
    "run_relax = True\n",
    "random_seed = 1000\n",
    "parallelism = 5\n",
    "num_models = 5"
   ]
  },
  {
   "cell_type": "code",
   "execution_count": null,
   "metadata": {},
   "outputs": [],
   "source": [
    "# Define you own labels\n",
    "labels = {\n",
    "    'run_name': 'run_1',\n",
    "    'protein_name': 't1050'\n",
    "}"
   ]
  },
  {
   "cell_type": "markdown",
   "metadata": {},
   "source": [
    "# Execute Workflow"
   ]
  },
  {
   "cell_type": "code",
   "execution_count": null,
   "metadata": {},
   "outputs": [],
   "source": [
    "args = workflow_executor.prepare_args_for_experiments(\n",
    "    project_id = project_id,\n",
    "    bucket_name = bucket_name,\n",
    "    region = region,\n",
    "    function_uri = function_uri,\n",
    "    local_sequence_path = local_sequence_path,\n",
    "    data_pipeline_machine_type = data_pipeline_machine_type,\n",
    "    predict_relax_machine_type = predict_relax_machine_type,\n",
    "    image_uri = image_uri,\n",
    "    network_name = network_name,\n",
    "    subnetwork_name = subnetwork_name,\n",
    "    nfs_ip_address = nfs_ip_address,\n",
    "    nfs_path = nfs_path,\n",
    "    max_template_date = max_template_date,\n",
    "    model_preset = model_preset,\n",
    "    db_preset = db_preset,\n",
    "    num_predictions_per_model = num_predictions_per_model,\n",
    "    model_params_path = model_params_path,\n",
    "    num_models = num_models,\n",
    "    run_relax = run_relax,\n",
    "    random_seed = random_seed,\n",
    "    parallelism = parallelism,\n",
    "    labels=labels)"
   ]
  },
  {
   "cell_type": "code",
   "execution_count": null,
   "metadata": {},
   "outputs": [],
   "source": [
    "workflow_executor.execute_workflow('alphafold-workflow-batch', args)"
   ]
  }
 ],
 "metadata": {
  "kernelspec": {
   "display_name": "Python 3.7.12 ('base')",
   "language": "python",
   "name": "python3"
  },
  "language_info": {
   "codemirror_mode": {
    "name": "ipython",
    "version": 3
   },
   "file_extension": ".py",
   "mimetype": "text/x-python",
   "name": "python",
   "nbconvert_exporter": "python",
   "pygments_lexer": "ipython3",
   "version": "3.7.12"
  },
  "orig_nbformat": 4,
  "vscode": {
   "interpreter": {
    "hash": "d4d1e4263499bec80672ea0156c357c1ee493ec2b1c70f0acce89fc37c4a6abe"
   }
  }
 },
 "nbformat": 4,
 "nbformat_minor": 2
}
