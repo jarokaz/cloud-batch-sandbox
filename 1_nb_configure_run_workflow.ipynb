{
 "cells": [
  {
   "cell_type": "markdown",
   "metadata": {},
   "source": [
    "# Define variables"
   ]
  },
  {
   "cell_type": "markdown",
   "metadata": {},
   "source": [
    "We can move the variables that won't change to the `workflow_executor`"
   ]
  },
  {
   "cell_type": "code",
   "execution_count": null,
   "metadata": {},
   "outputs": [],
   "source": [
    "import time\n",
    "import os\n",
    "\n",
    "from src import workflow_executor"
   ]
  },
  {
   "cell_type": "code",
   "execution_count": null,
   "metadata": {},
   "outputs": [],
   "source": [
    "# Cloud functions must be deployed to retrieve it name\n",
    "# The name of the cloud function must be \"af-update-experiment-status\"\n",
    "function_metadata = ! gcloud functions describe af-update-experiment-status --gen2 --region us-central1 --format=\"value(serviceConfig.uri)\"\n",
    "function_uri = function_metadata[0]"
   ]
  },
  {
   "cell_type": "markdown",
   "metadata": {},
   "source": [
    "### Project, GCS and job ID"
   ]
  },
  {
   "cell_type": "code",
   "execution_count": null,
   "metadata": {},
   "outputs": [],
   "source": [
    "project_id = 'rl-alphafold-dev'     # Your project ID\n",
    "bucket_name = 'rl-alphafold-dbs'    # Bucket name\n",
    "region = 'us-central1'              # Region\n",
    "\n",
    "local_sequence_path = 'sequences/seq1.fasta'    # Path to your local sequence\n",
    "image_uri = f'gcr.io/{project_id}/alphafold'    # Path to image on GCR"
   ]
  },
  {
   "cell_type": "code",
   "execution_count": null,
   "metadata": {},
   "outputs": [],
   "source": [
    "# Don't change\n",
    "with open(local_sequence_path, 'r') as fp:\n",
    "    sequence_str = fp.read()\n",
    "\n",
    "job_id = f'job-alphafold-{int(time.time()*1000)}'\n",
    "blob_sequence_path = os.path.join(job_id, 'sequence.fasta')\n",
    "gcs_job_path = os.path.join(bucket_name, job_id)"
   ]
  },
  {
   "cell_type": "code",
   "execution_count": null,
   "metadata": {},
   "outputs": [],
   "source": [
    "# Change to the desired machine type\n",
    "data_pipeline_machine_type = 'c2-standard-16'\n",
    "predict_relax_machine_type = 'n1-standard-8-t4'"
   ]
  },
  {
   "cell_type": "markdown",
   "metadata": {},
   "source": [
    "### Network"
   ]
  },
  {
   "cell_type": "code",
   "execution_count": null,
   "metadata": {},
   "outputs": [],
   "source": [
    "network_name = 'alphafold'          # Change to your network name\n",
    "subnetwork_name = 'alphafold-nw'    # Change to your subnetwork name\n",
    "\n",
    "nfs_ip_address = '10.130.0.2'       # Filestore IP\n",
    "nfs_path = '/datasets'              # Path to NFS share"
   ]
  },
  {
   "cell_type": "code",
   "execution_count": null,
   "metadata": {},
   "outputs": [],
   "source": [
    "# Don't change\n",
    "network = f'projects/{project_id}/global/networks/{network_name}'\n",
    "subnetwork = f'projects/{project_id}/regions/{region}/subnetworks/{subnetwork_name}'"
   ]
  },
  {
   "cell_type": "markdown",
   "metadata": {},
   "source": [
    "### Data Pipeline"
   ]
  },
  {
   "cell_type": "code",
   "execution_count": null,
   "metadata": {},
   "outputs": [],
   "source": [
    "max_template_date = '2020-05-14'\n",
    "model_preset = 'monomer'        \n",
    "db_preset = 'reduced_dbs'       "
   ]
  },
  {
   "cell_type": "code",
   "execution_count": null,
   "metadata": {},
   "outputs": [],
   "source": [
    "# Don't change\n",
    "data_metadata_filename = 'data_pipeline.json'\n",
    "msas_folder = 'msas'\n",
    "data_features_filename = 'features.pkl'\n",
    "\n",
    "blob_data_metadata_path = os.path.join(job_id,'data_pipeline.json')\n",
    "blob_data_features_path = os.path.join(job_id,'features.pkl')"
   ]
  },
  {
   "cell_type": "markdown",
   "metadata": {},
   "source": [
    "### Predict and Relax"
   ]
  },
  {
   "cell_type": "code",
   "execution_count": null,
   "metadata": {},
   "outputs": [],
   "source": [
    "# Change to the location (parent path) where the parameters are stored (GCS)\n",
    "model_params_path = 'rl-alphafold-dbs'"
   ]
  },
  {
   "cell_type": "code",
   "execution_count": null,
   "metadata": {},
   "outputs": [],
   "source": [
    "# Change only if necessary\n",
    "num_predictions_per_model = 1\n",
    "run_relax = True\n",
    "random_seed = 1000\n",
    "parallelism = 5\n",
    "num_models = 5"
   ]
  },
  {
   "cell_type": "markdown",
   "metadata": {},
   "source": [
    "# Execute Workflow"
   ]
  },
  {
   "cell_type": "code",
   "execution_count": null,
   "metadata": {},
   "outputs": [],
   "source": [
    "args = workflow_executor.prepare_args_for_experiments(\n",
    "    project_id,\n",
    "    bucket_name,\n",
    "    region,\n",
    "    function_uri,\n",
    "    data_pipeline_machine_type,\n",
    "    predict_relax_machine_type,\n",
    "    sequence_str,\n",
    "    job_id,\n",
    "    blob_sequence_path,\n",
    "    gcs_job_path,\n",
    "    image_uri,\n",
    "    network_name,\n",
    "    subnetwork_name,\n",
    "    nfs_ip_address,\n",
    "    nfs_path,\n",
    "    network,\n",
    "    subnetwork,\n",
    "    max_template_date,\n",
    "    model_preset,\n",
    "    db_preset,\n",
    "    data_metadata_filename,\n",
    "    msas_folder,\n",
    "    data_features_filename,\n",
    "    blob_data_metadata_path,\n",
    "    blob_data_features_path,\n",
    "    num_predictions_per_model,\n",
    "    model_params_path,\n",
    "    num_models,\n",
    "    run_relax,\n",
    "    random_seed,\n",
    "    parallelism\n",
    ")"
   ]
  },
  {
   "cell_type": "code",
   "execution_count": null,
   "metadata": {},
   "outputs": [],
   "source": [
    "workflow_executor.execute_workflow('af-batch', args)"
   ]
  }
 ],
 "metadata": {
  "kernelspec": {
   "display_name": "Python 3.7.12 ('base')",
   "language": "python",
   "name": "python3"
  },
  "language_info": {
   "codemirror_mode": {
    "name": "ipython",
    "version": 3
   },
   "file_extension": ".py",
   "mimetype": "text/x-python",
   "name": "python",
   "nbconvert_exporter": "python",
   "pygments_lexer": "ipython3",
   "version": "3.7.12"
  },
  "orig_nbformat": 4,
  "vscode": {
   "interpreter": {
    "hash": "d4d1e4263499bec80672ea0156c357c1ee493ec2b1c70f0acce89fc37c4a6abe"
   }
  }
 },
 "nbformat": 4,
 "nbformat_minor": 2
}
