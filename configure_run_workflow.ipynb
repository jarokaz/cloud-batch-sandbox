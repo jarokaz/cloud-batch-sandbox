{
 "cells": [
  {
   "cell_type": "markdown",
   "metadata": {},
   "source": [
    "# Define variables"
   ]
  },
  {
   "cell_type": "code",
   "execution_count": 1,
   "metadata": {},
   "outputs": [],
   "source": [
    "import time\n",
    "import os\n",
    "\n",
    "import workflow_executor"
   ]
  },
  {
   "cell_type": "markdown",
   "metadata": {},
   "source": [
    "### Project, GCS and job ID"
   ]
  },
  {
   "cell_type": "code",
   "execution_count": 2,
   "metadata": {},
   "outputs": [],
   "source": [
    "project_id = 'rl-alphafold-dev'\n",
    "bucket_name = 'rl-alphafold-dbs'\n",
    "region = 'us-central1'\n",
    "\n",
    "local_sequence_path = 'sequences/seq1.fasta'"
   ]
  },
  {
   "cell_type": "code",
   "execution_count": 3,
   "metadata": {},
   "outputs": [],
   "source": [
    "with open(local_sequence_path, 'r') as fp:\n",
    "    sequence_str = fp.read()\n",
    "\n",
    "job_id = f'job-alphafold-{int(time.time()*1000)}'\n",
    "blob_sequence_path = os.path.join(job_id, 'sequence.fasta')\n",
    "gcs_job_path = os.path.join(bucket_name, job_id)\n",
    "image_uri = f'gcr.io/{project_id}/alphafold'"
   ]
  },
  {
   "cell_type": "markdown",
   "metadata": {},
   "source": [
    "### Network"
   ]
  },
  {
   "cell_type": "code",
   "execution_count": 4,
   "metadata": {},
   "outputs": [],
   "source": [
    "network_name = 'alphafold'\n",
    "subnetwork_name = 'alphafold-nw'\n",
    "\n",
    "nfs_ip_address = '10.130.0.2'\n",
    "nfs_path = 'datasets'"
   ]
  },
  {
   "cell_type": "code",
   "execution_count": 5,
   "metadata": {},
   "outputs": [],
   "source": [
    "network = f'projects/{project_id}/global/networks/{network_name}'\n",
    "subnet = f'projects/{project_id}/regions/{region}/subnetworks/{subnetwork_name}'"
   ]
  },
  {
   "cell_type": "markdown",
   "metadata": {},
   "source": [
    "### Data Pipeline"
   ]
  },
  {
   "cell_type": "code",
   "execution_count": 6,
   "metadata": {},
   "outputs": [],
   "source": [
    "max_template_date = '2020-05-14'\n",
    "model_preset = 'monomer'\n",
    "db_preset = 'reduced_dbs'\n",
    "\n",
    "data_metadata_filename = 'data_pipeline.json'\n",
    "msas_folder = 'msas'\n",
    "data_features_filename = 'features.pkl'\n",
    "\n",
    "blob_data_metadata_path = os.path.join(gcs_job_path,'data_pipeline.json')\n",
    "blob_data_features_path = os.path.join(gcs_job_path,'features.pkl')"
   ]
  },
  {
   "cell_type": "markdown",
   "metadata": {},
   "source": [
    "### Predict and Relax"
   ]
  },
  {
   "cell_type": "code",
   "execution_count": 7,
   "metadata": {},
   "outputs": [],
   "source": [
    "num_predictions_per_model = 1\n",
    "model_params_path = ''\n",
    "run_relax = True\n",
    "random_seed = 1000\n",
    "parallelism = 5\n",
    "\n",
    "num_models = 5"
   ]
  },
  {
   "cell_type": "markdown",
   "metadata": {},
   "source": [
    "# Execute Workflow"
   ]
  },
  {
   "cell_type": "code",
   "execution_count": 8,
   "metadata": {},
   "outputs": [],
   "source": [
    "args = workflow_executor.prepare_args_for_experiments(\n",
    "    project_id,\n",
    "    bucket_name,\n",
    "    region,\n",
    "    sequence_str,\n",
    "    job_id,\n",
    "    blob_sequence_path,\n",
    "    gcs_job_path,\n",
    "    image_uri,\n",
    "    network_name,\n",
    "    subnetwork_name,\n",
    "    nfs_ip_address,\n",
    "    nfs_path,\n",
    "    network,\n",
    "    subnet,\n",
    "    max_template_date,\n",
    "    model_preset,\n",
    "    db_preset,\n",
    "    data_metadata_filename,\n",
    "    msas_folder,\n",
    "    data_features_filename,\n",
    "    blob_data_metadata_path,\n",
    "    blob_data_features_path,\n",
    "    num_predictions_per_model,\n",
    "    model_params_path,\n",
    "    num_models,\n",
    "    run_relax,\n",
    "    random_seed,\n",
    "    parallelism\n",
    ")"
   ]
  },
  {
   "cell_type": "code",
   "execution_count": 9,
   "metadata": {},
   "outputs": [
    {
     "data": {
      "text/plain": [
       "{'project_id': 'rl-alphafold-dev',\n",
       " 'bucket_name': 'rl-alphafold-dbs',\n",
       " 'region': 'us-central1',\n",
       " 'sequence_str': '>test sequence\\nMAAHKGAEHHHKAAEHHEQAAKHHHAAAEHHEKGEHEQAAHHADTAYAHHKHAEEHAAQAAKHDAEHHAPKPH',\n",
       " 'job_id': 'job-alphafold-1669682221567',\n",
       " 'blob_sequence_path': 'job-alphafold-1669682221567/sequence.fasta',\n",
       " 'gcs_job_path': 'rl-alphafold-dbs/job-alphafold-1669682221567',\n",
       " 'image_uri': 'gcr.io/rl-alphafold-dev/alphafold',\n",
       " 'network_name': 'alphafold',\n",
       " 'subnetwork_name': 'alphafold-nw',\n",
       " 'nfs_ip_address': '10.130.0.2',\n",
       " 'nfs_path': 'datasets',\n",
       " 'network': 'projects/rl-alphafold-dev/global/networks/alphafold',\n",
       " 'subnet': 'projects/rl-alphafold-dev/regions/us-central1/subnetworks/alphafold-nw',\n",
       " 'max_template_date': '2020-05-14',\n",
       " 'model_preset': 'monomer',\n",
       " 'db_preset': 'reduced_dbs',\n",
       " 'data_metadata_filename': 'data_pipeline.json',\n",
       " 'msas_folder': 'msas',\n",
       " 'data_features_filename': 'features.pkl',\n",
       " 'blob_data_metadata_path': 'rl-alphafold-dbs/job-alphafold-1669682221567/data_pipeline.json',\n",
       " 'blob_data_features_path': 'rl-alphafold-dbs/job-alphafold-1669682221567/features.pkl',\n",
       " 'num_predictions_per_model': 1,\n",
       " 'model_params_path': '',\n",
       " 'num_models': 5,\n",
       " 'run_relax': True,\n",
       " 'random_seed': 1000,\n",
       " 'parallelism': 5,\n",
       " 'status': {'features': 'SCHEDULED',\n",
       "  'job-alphafold-1669682221567-predict-relax-0': 'SCHEDULED',\n",
       "  'job-alphafold-1669682221567-predict-relax-1': 'SCHEDULED',\n",
       "  'job-alphafold-1669682221567-predict-relax-2': 'SCHEDULED',\n",
       "  'job-alphafold-1669682221567-predict-relax-3': 'SCHEDULED'},\n",
       " 'model_relax': [{'batch_job_id': 'job-alphafold-1669682221567-predict-relax-0',\n",
       "   'model_index': '0',\n",
       "   'prediction_index': '0',\n",
       "   'prediction_random_seed': '1000',\n",
       "   'blob_raw_prediction_path': 'result_model_0_pred_0.pkl',\n",
       "   'blob_unrelaxed_protein_path': 'unrelaxed_model_0_pred_0.pdb',\n",
       "   'blob_relaxed_protein_path': 'relaxed_model_0_pred_0.pdb',\n",
       "   'blob_prediction_metadata_path': 'pred_metadata_model_0_pred_0.json',\n",
       "   'blob_relaxation_metadata_path': 'relax_metadata_model_0_pred_0.json'},\n",
       "  {'batch_job_id': 'job-alphafold-1669682221567-predict-relax-1',\n",
       "   'model_index': '1',\n",
       "   'prediction_index': '0',\n",
       "   'prediction_random_seed': '1001',\n",
       "   'blob_raw_prediction_path': 'result_model_1_pred_0.pkl',\n",
       "   'blob_unrelaxed_protein_path': 'unrelaxed_model_1_pred_0.pdb',\n",
       "   'blob_relaxed_protein_path': 'relaxed_model_1_pred_0.pdb',\n",
       "   'blob_prediction_metadata_path': 'pred_metadata_model_1_pred_0.json',\n",
       "   'blob_relaxation_metadata_path': 'relax_metadata_model_1_pred_0.json'},\n",
       "  {'batch_job_id': 'job-alphafold-1669682221567-predict-relax-2',\n",
       "   'model_index': '2',\n",
       "   'prediction_index': '0',\n",
       "   'prediction_random_seed': '1002',\n",
       "   'blob_raw_prediction_path': 'result_model_2_pred_0.pkl',\n",
       "   'blob_unrelaxed_protein_path': 'unrelaxed_model_2_pred_0.pdb',\n",
       "   'blob_relaxed_protein_path': 'relaxed_model_2_pred_0.pdb',\n",
       "   'blob_prediction_metadata_path': 'pred_metadata_model_2_pred_0.json',\n",
       "   'blob_relaxation_metadata_path': 'relax_metadata_model_2_pred_0.json'},\n",
       "  {'batch_job_id': 'job-alphafold-1669682221567-predict-relax-3',\n",
       "   'model_index': '3',\n",
       "   'prediction_index': '0',\n",
       "   'prediction_random_seed': '1003',\n",
       "   'blob_raw_prediction_path': 'result_model_3_pred_0.pkl',\n",
       "   'blob_unrelaxed_protein_path': 'unrelaxed_model_3_pred_0.pdb',\n",
       "   'blob_relaxed_protein_path': 'relaxed_model_3_pred_0.pdb',\n",
       "   'blob_prediction_metadata_path': 'pred_metadata_model_3_pred_0.json',\n",
       "   'blob_relaxation_metadata_path': 'relax_metadata_model_3_pred_0.json'}]}"
      ]
     },
     "execution_count": 9,
     "metadata": {},
     "output_type": "execute_result"
    }
   ],
   "source": [
    "args"
   ]
  },
  {
   "cell_type": "code",
   "execution_count": null,
   "metadata": {},
   "outputs": [],
   "source": []
  }
 ],
 "metadata": {
  "kernelspec": {
   "display_name": "Python 3.7.12 ('base')",
   "language": "python",
   "name": "python3"
  },
  "language_info": {
   "codemirror_mode": {
    "name": "ipython",
    "version": 3
   },
   "file_extension": ".py",
   "mimetype": "text/x-python",
   "name": "python",
   "nbconvert_exporter": "python",
   "pygments_lexer": "ipython3",
   "version": "3.7.12"
  },
  "orig_nbformat": 4,
  "vscode": {
   "interpreter": {
    "hash": "d4d1e4263499bec80672ea0156c357c1ee493ec2b1c70f0acce89fc37c4a6abe"
   }
  }
 },
 "nbformat": 4,
 "nbformat_minor": 2
}
